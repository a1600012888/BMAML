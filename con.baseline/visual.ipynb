{
 "cells": [
  {
   "cell_type": "code",
   "execution_count": 1,
   "metadata": {},
   "outputs": [],
   "source": [
    "import os\n",
    "from models import ThreeLayer\n",
    "import torch\n",
    "import argparse\n",
    "from config import LogP, RBFKernelOnWeights, RecurrentRBFKernelOnWeights\n",
    "from SVGDConfig import SteinVariationalGradientDescentBase\n",
    "from train import TrainFewTaskOneStep,TrainFewTaskFewStep, test_con\n",
    "from Dataset import Tasks\n",
    "from torch.nn.utils import parameters_to_vector, vector_to_parameters\n",
    "from tqdm import tqdm\n",
    "from tensorboardX import SummaryWriter\n",
    "from utils import PolyLearningRatePolicy\n",
    "import matplotlib.pyplot as plt\n",
    "import numpy as np"
   ]
  },
  {
   "cell_type": "code",
   "execution_count": 2,
   "metadata": {},
   "outputs": [],
   "source": [
    "net = ThreeLayer()\n",
    "tasks = Tasks(root = './data')\n",
    "criterion = torch.nn.MSELoss()\n",
    "logp = LogP(net, criterion)\n",
    "task_loader1 = tasks.TaskLoader(is_train = False, time_steps = 1,  total_num_of_tasks = 100)\n",
    "task_loader3 = tasks.TaskLoader(is_train = False, time_steps = 3,  total_num_of_tasks = 100)\n",
    "#val_task_loader = tasks.TaskLoader(is_train = False, time_steps = args.time_step, total_num_of_tasks = 100)"
   ]
  },
  {
   "cell_type": "code",
   "execution_count": 3,
   "metadata": {},
   "outputs": [],
   "source": [
    "paramsvec0 = net.params2vec()\n",
    "rnn_kernel_input_size = parameters_to_vector(paramsvec0).numel()\n",
    "\n",
    "M = []\n",
    "#M.append(paramsvec0)\n",
    "for i in range(3):\n",
    "    #m = torch.nn.ParameterList([torch.nn.Parameter(torch.randn_like(pa) * 0.01) for pa in paramsvec0])\n",
    "    m = torch.nn.ParameterList([torch.nn.Parameter(torch.randn_like(pa) * 0.3) for pa in paramsvec0])\n",
    "    M.append(m)\n",
    "\n",
    "M = torch.load('particles-99999.p')\n",
    "for paramsvec in M:\n",
    "    for i in range(len(paramsvec)):\n",
    "        paramsvec[i] = torch.nn.Parameter(paramsvec[i].cpu())\n",
    "\n",
    "\n",
    "Mba = torch.load('../con.Bmaml.ft.5e-1/particles-99999.p')\n",
    "for paramsvec in Mba:\n",
    "    for i in range(len(paramsvec)):\n",
    "        paramsvec[i] = torch.nn.Parameter(paramsvec[i].cpu())"
   ]
  },
  {
   "cell_type": "code",
   "execution_count": 4,
   "metadata": {},
   "outputs": [],
   "source": [
    "kernel = RecurrentRBFKernelOnWeights(input_size = rnn_kernel_input_size, sigma = 10.0)\n",
    "kernel.RnnfWeights.load_state_dict(torch.load('./rnn-99999.p'))\n",
    "#kernel.RnnfWeights = kernel.RnnfWeights.to(DEVICE)\n",
    "for p in kernel.RnnfWeights.parameters():\n",
    "    p.requires_grad = False"
   ]
  },
  {
   "cell_type": "code",
   "execution_count": 5,
   "metadata": {},
   "outputs": [],
   "source": [
    "def plot_data_pred(task, M):\n",
    "    X, Y, Xtest, Ytest, std = task[0]\n",
    "    xr = X.numpy()\n",
    "    yr = Y.numpy()\n",
    "    #plt.scatter(xr, yr)\n",
    "    xplot = torch.tensor(np.linspace(start=-5.0, stop=5.0, num=50)[:, np.newaxis].astype(np.float32))\n",
    "    for paramsvec in M:\n",
    "        pred = net.compute_graph(xplot, paramsvec)\n",
    "        \n",
    "        pp = pred.detach().numpy()\n",
    "        plt.scatter(xplot, pp)\n",
    "    \n",
    "    plt.show()\n",
    "\n",
    "\n",
    "def plot_data_pred_mean(task, M, other_task):\n",
    "    X, Y, Xtest, Ytest, std = task[0]\n",
    "    X = torch.cat((X, Xtest))\n",
    "    Y = torch.cat((Y, Ytest))\n",
    "    xr = X.numpy()\n",
    "    yr = Y.numpy()\n",
    "    #plt.scatter(xr, yr)'\n",
    "    xplot = torch.tensor(np.linspace(start=-5.0, stop=5.0, num=100)[:, np.newaxis].astype(np.float32))\n",
    "    pred = np.zeros_like(xplot)\n",
    "    for paramsvec in M:\n",
    "        predt = net.compute_graph(xplot, paramsvec)\n",
    "        \n",
    "        pp = predt.detach().numpy()\n",
    "        pred = pred + pp\n",
    "        #plt.scatter(xr, pp)\n",
    "    pred = pred / len(M)\n",
    "    plt.scatter(xplot, pred, color = 'blue')\n",
    "    plt.scatter(xr, yr, color='green')\n",
    "    if other_task is not None:\n",
    "        for i in range(len(other_task)):\n",
    "            X, Y, Xtest, Ytest, std = other_task[i]\n",
    "            X = torch.cat((X, Xtest))\n",
    "            Y = torch.cat((Y, Ytest))\n",
    "            xr = X.numpy()\n",
    "            yr = Y.numpy()\n",
    "            plt.scatter(xr, yr, )\n",
    "    plt.show()\n",
    "    "
   ]
  },
  {
   "cell_type": "code",
   "execution_count": 6,
   "metadata": {},
   "outputs": [],
   "source": [
    "def show_tasks(tasks, ifall = False):\n",
    "    for i in range(len(tasks)):\n",
    "        X, Y, Xtest, Ytest, std = tasks[i]\n",
    "        if ifall:\n",
    "            X = torch.cat((X, Xtest))\n",
    "            Y = torch.cat((Y, Ytest))\n",
    "        xr = X.numpy()\n",
    "        yr = Y.numpy()\n",
    "        plt.scatter(xr, yr)\n",
    "    plt.show()"
   ]
  },
  {
   "cell_type": "code",
   "execution_count": 7,
   "metadata": {},
   "outputs": [],
   "source": [
    "def plot_pred_after(Tasks, M, num_of_step = 1, step_size = 1e-1):\n",
    "\n",
    "    SVGD = SteinVariationalGradientDescentBase()\n",
    "    SVGD.Kernel = kernel\n",
    "    SVGD.NablaLogP = logp\n",
    "    SVGD.InitMomentumUpdaters(len(M))\n",
    "    \n",
    "    HistroyThetas = [[] for i in range(num_of_step)] # used for recurrent kernel\n",
    "    plot_data_pred_mean( [Tasks[-1]] ,M, Tasks[:-1])\n",
    "    for i in range(len(Tasks) - 1):\n",
    "        now_task = Tasks[i]\n",
    "        next_task = Tasks[i+1]\n",
    "        X, Y, Xtest, Ytest, std = now_task\n",
    "        X = X\n",
    "        Y = Y\n",
    "        std = std * 100  # * 100 to stablize\n",
    "\n",
    "        nextX, nextY, nextXtest, nextYtest, nextstd = next_task\n",
    "        nextXtest = nextXtest\n",
    "        nextYtest = nextYtest\n",
    "        nextstd = nextstd * 100  # * 100 to stablize\n",
    "\n",
    "        SVGD.NablaLogP.update(X, Y, std)\n",
    "        SVGD.InitMomentumUpdaters()\n",
    "        \n",
    "        #plot_data_pred_mean( [Tasks[-1]] ,M, Tasks[:-1])\n",
    "        for j in range(num_of_step):\n",
    "\n",
    "            HistroyThetas[j].append(M)\n",
    "            M = SVGD.step(HistroyThetas[j], retain_graph = False, step_size = step_size)\n",
    "            HistroyThetas[j][-1] = M\n",
    "        \n",
    "        plot_data_pred_mean( [Tasks[-1]] ,M, Tasks[:-1])\n",
    "            #HistroyThetas[j].append(M)\n",
    "    #plot_data_pred( [Tasks[-1]] ,M)\n",
    "    #plot_data_pred_mean( [Tasks[-1]] ,M, Tasks[:-1])\n",
    "    #show_tasks(Tasks[:-1])\n",
    "\n",
    "\n"
   ]
  },
  {
   "cell_type": "code",
   "execution_count": 11,
   "metadata": {},
   "outputs": [
    {
     "data": {
      "image/png": "[encoded data removed]",
      "text/plain": [
       "<Figure size 432x288 with 1 Axes>"
      ]
     },
     "metadata": {},
     "output_type": "display_data"
    },
    {
     "name": "stderr",
     "output_type": "stream",
     "text": [
      "/usr/local/lib/python3.5/dist-packages/torch/nn/functional.py:1006: UserWarning: nn.functional.sigmoid is deprecated. Use torch.sigmoid instead.\n",
      "  warnings.warn(\"nn.functional.sigmoid is deprecated. Use torch.sigmoid instead.\")\n",
      "/usr/local/lib/python3.5/dist-packages/torch/nn/functional.py:995: UserWarning: nn.functional.tanh is deprecated. Use torch.tanh instead.\n",
      "  warnings.warn(\"nn.functional.tanh is deprecated. Use torch.tanh instead.\")\n"
     ]
    },
    {
     "data": {
      "image/png": "[encoded data removed]",
      "text/plain": [
       "<Figure size 432x288 with 1 Axes>"
      ]
     },
     "metadata": {},
     "output_type": "display_data"
    },
    {
     "data": {
      "image/png": "[encoded data removed]",
      "text/plain": [
       "<Figure size 432x288 with 1 Axes>"
      ]
     },
     "metadata": {},
     "output_type": "display_data"
    },
    {
     "data": {
      "image/png": "[encoded data removed]",
      "text/plain": [
       "<Figure size 432x288 with 1 Axes>"
      ]
     },
     "metadata": {},
     "output_type": "display_data"
    }
   ],
   "source": [
    "Tasks = next(task_loader3)\n",
    "plot_pred_after(Tasks, M)\n",
    "show_tasks(Tasks)"
   ]
  },
  {
   "cell_type": "code",
   "execution_count": null,
   "metadata": {},
   "outputs": [],
   "source": []
  }
 ],
 "metadata": {
  "kernelspec": {
   "display_name": "Python 3",
   "language": "python",
   "name": "python3"
  },
  "language_info": {
   "codemirror_mode": {
    "name": "ipython",
    "version": 3
   },
   "file_extension": ".py",
   "mimetype": "text/x-python",
   "name": "python",
   "nbconvert_exporter": "python",
   "pygments_lexer": "ipython3",
   "version": "3.5.2"
  }
 },
 "nbformat": 4,
 "nbformat_minor": 2
}
